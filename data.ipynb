{
 "cells": [
  {
   "cell_type": "code",
   "execution_count": 2,
   "metadata": {},
   "outputs": [],
   "source": [
    "import random\n",
    "import collections\n",
    "import pandas as pd \n",
    "import numpy as np\n",
    "import networkx\n",
    "import matplotlib.pyplot as plt\n",
    "import os\n",
    "%matplotlib inline"
   ]
  },
  {
   "cell_type": "code",
   "execution_count": 3,
   "metadata": {},
   "outputs": [],
   "source": [
    "fb_dir = \"/Users/rezatabrizi/Downloads/facebook\""
   ]
  },
  {
   "cell_type": "code",
   "execution_count": 4,
   "metadata": {},
   "outputs": [],
   "source": [
    "facebook_adj = pd.read_csv(os.path.join(fb_dir, \"adj.txt\"), sep = \" \", header=None)\n",
    "facebook_adj.columns = ['u', 'v']"
   ]
  },
  {
   "cell_type": "code",
   "execution_count": 12,
   "metadata": {},
   "outputs": [],
   "source": [
    "class graph:\n",
    "    def __init__(self, adj, directed, edge_weight=\"in_degree\"):\n",
    "        self.directed = directed\n",
    "        self.edge_weight = edge_weight\n",
    "        self._n = None\n",
    "        self._m = None\n",
    "        self.nodes = set()\n",
    "        self.edges = collections.defaultdict(float)\n",
    "        self.children = collections.defaultdict(set) \n",
    "        self.parents = collections.defaultdict(set)\n",
    "        self._create_graph(adj)\n",
    "\n",
    "    def _create_graph (self, adj):\n",
    "        for idx, row in adj.iterrows():\n",
    "            u = row.iloc[0] \n",
    "            v = row.iloc[1]\n",
    "\n",
    "            self.nodes.add(u)\n",
    "            self.nodes.add(v)\n",
    "\n",
    "            self.edges[(u, v)] = 0.0\n",
    "            if (not self.directed):\n",
    "                self.edges[(v, u)] = 0.0\n",
    "\n",
    "            self.parents[v].add(u)\n",
    "            self.children[u].add(v)\n",
    "            \n",
    "            if (not self.directed):\n",
    "                self.parents[u].add(v)\n",
    "                self.children[v].add(u)\n",
    "\n",
    "\n",
    "        for u, v in self.edges.keys():\n",
    "            if self.edge_weight == \"in_degree\":\n",
    "                self.edges[(u, v)] = 1.0 / len(self.parents[v])\n",
    "            elif self.edge_weight == \"normal\":\n",
    "                self.edges[(u, v)] = np.clip(np.random.normal(.02, .007), 0, 1)\n",
    "                \n",
    "        self._n = len(self.nodes)\n",
    "        self._m = len(self.edges)"
   ]
  },
  {
   "cell_type": "markdown",
   "metadata": {},
   "source": [
    "## Statistics and Data Visualization of the Underlying Graph\n",
    "1. Histogram of the out degree of each node"
   ]
  },
  {
   "cell_type": "code",
   "execution_count": 13,
   "metadata": {},
   "outputs": [],
   "source": [
    "graph_gaussian = graph(facebook_adj, False, 'normal')\n",
    "graph_indeg = graph(facebook_adj, False, 'in_degree')"
   ]
  },
  {
   "cell_type": "code",
   "execution_count": 14,
   "metadata": {},
   "outputs": [
    {
     "data": {
      "text/plain": [
       "Text(0, 0.5, 'Number of Nodes')"
      ]
     },
     "execution_count": 14,
     "metadata": {},
     "output_type": "execute_result"
    },
    {
     "data": {
      "image/png": "[encoded data removed]",
      "text/plain": [
       "<Figure size 800x400 with 1 Axes>"
      ]
     },
     "metadata": {},
     "output_type": "display_data"
    }
   ],
   "source": [
    "out_degrees = [len(graph_gaussian.children[n]) for n in range(graph_gaussian._n)]\n",
    "plt.figure(figsize=(8, 4))\n",
    "plt.hist(out_degrees, bins=range(max(out_degrees)+2), align='left', color='blue', alpha=0.7)\n",
    "plt.title('Histogram of Node Out-Degrees')\n",
    "plt.xlabel('Out-Degree')\n",
    "plt.ylabel('Number of Nodes')\n"
   ]
  },
  {
   "cell_type": "code",
   "execution_count": 15,
   "metadata": {},
   "outputs": [
    {
     "name": "stdout",
     "output_type": "stream",
     "text": [
      "Average outdegree 43.69101262688784\n"
     ]
    }
   ],
   "source": [
    "print (f\"Average outdegree {sum(out_degrees)/len(out_degrees)}\")"
   ]
  },
  {
   "cell_type": "code",
   "execution_count": 9,
   "metadata": {},
   "outputs": [],
   "source": [
    "def independent_cascade(graph, seed_set):\n",
    "    can_activate_q = collections.deque()\n",
    "    seed = set()\n",
    "    \n",
    "    for node in seed_set: \n",
    "        can_activate_q.append((node, 0))\n",
    "    cascade = [] \n",
    "\n",
    "    while can_activate_q:\n",
    "        u, u_t = can_activate_q.popleft() \n",
    "        if (u in seed):\n",
    "            continue\n",
    "        cascade.append((u, u_t))\n",
    "        seed.add(u) \n",
    "        for v in graph.children[u]:\n",
    "            chance = random.random()\n",
    "            w = graph.edges[(u, v)]\n",
    "            if v not in seed and chance <= w:\n",
    "                can_activate_q.append((v, u_t+1))\n",
    "    \n",
    "    return cascade"
   ]
  },
  {
   "cell_type": "code",
   "execution_count": 10,
   "metadata": {},
   "outputs": [],
   "source": [
    "def powerlaw_sample(min_value, max_value, exponent):\n",
    "    \"\"\"choose a number based on the power law distribution\n",
    "\n",
    "    Args:\n",
    "        min_value (int): min range\n",
    "        max_value (int): max range\n",
    "        exponent (int): power law exponent\n",
    "\n",
    "    Returns:\n",
    "        int: randomly chosen number based on he power law\n",
    "    \"\"\"\n",
    "    y = (max_value**(exponent+1) - min_value**(exponent+1)) * random.random() + min_value**(exponent+1)\n",
    "    return int(y**(1/(exponent+1)))"
   ]
  },
  {
   "cell_type": "code",
   "execution_count": 11,
   "metadata": {},
   "outputs": [],
   "source": [
    "def generate_cascades(graph):\n",
    "    seeds = []\n",
    "    regression = []\n",
    "    classification = []\n",
    "    iters = 0\n",
    "    while iters < 2000:\n",
    "        seed_count = powerlaw_sample(1, graph._n, -2.5)\n",
    "        seed_nodes = random.sample(range(graph._n), seed_count)\n",
    "        seeds.append(seed_nodes)\n",
    "    \n",
    "        sum_activations = 0 \n",
    "        sample = False\n",
    "        i = 0\n",
    "        while i < 1000:\n",
    "            currrent_cascade = independent_cascade(graph, seed_nodes)\n",
    "            if (not sample and len(currrent_cascade) >= 3):\n",
    "                classification.append(currrent_cascade)\n",
    "                sample = True\n",
    "            sum_activations += len(currrent_cascade)\n",
    "            i += 1\n",
    "        regression.append(sum_activations/1000)\n",
    "        iters += 1\n",
    "    return seeds, regression, classification    "
   ]
  },
  {
   "cell_type": "code",
   "execution_count": 11,
   "metadata": {},
   "outputs": [],
   "source": [
    "regression_cas_count = generate_cascades(graph_indeg)"
   ]
  },
  {
   "cell_type": "code",
   "execution_count": 12,
   "metadata": {},
   "outputs": [],
   "source": [
    "seeds, regression_cascades, classification_cascades = regression_cas_count"
   ]
  },
  {
   "cell_type": "code",
   "execution_count": 13,
   "metadata": {},
   "outputs": [
    {
     "data": {
      "text/plain": [
       "[(1744, 0), (1645, 1), (1349, 2), (1878, 2), (1526, 3)]"
      ]
     },
     "execution_count": 13,
     "metadata": {},
     "output_type": "execute_result"
    }
   ],
   "source": [
    "classification_cascades[45]"
   ]
  },
  {
   "cell_type": "code",
   "execution_count": 14,
   "metadata": {},
   "outputs": [],
   "source": [
    "def create_raw_classificaiton_data(classification_cascades): \n",
    "    with open ('raw_classification_facebook.txt', 'w') as file: \n",
    "        for i, cascade in enumerate(classification_cascades):\n",
    "            file.write(f\"{i} \")\n",
    "            for node, t in cascade: \n",
    "                file.write(f\"{node}:{t} \")\n",
    "            file.write(f\"\\n\")\n",
    "\n",
    "def create_raw_regression_data(seed_set, regression_cascades):\n",
    "    with open ('raw_regresssion_facebook.txt', 'w') as file:\n",
    "        for i, activation_count in enumerate(regression_cascades):\n",
    "            file.write(f\"{i} \")\n",
    "            for seed_node in seed_set[i]: \n",
    "                file.write(f\"{seed_node} \")\n",
    "            file.write(f\"{activation_count}\\n\")"
   ]
  },
  {
   "cell_type": "code",
   "execution_count": 15,
   "metadata": {},
   "outputs": [],
   "source": [
    "create_raw_classificaiton_data(classification_cascades)\n",
    "create_raw_regression_data(seeds, regression_cascades)"
   ]
  },
  {
   "cell_type": "code",
   "execution_count": 16,
   "metadata": {},
   "outputs": [
    {
     "data": {
      "text/plain": [
       "(array([  0.,  71., 109., 109., 128., 129., 117.,  99.,  95.,  83.,  77.,\n",
       "         67.,  67.,  79.,  64.,  61.,  61.,  52.,  28.,  36.,  32.,  24.,\n",
       "         22.,  21.,  15.,  21.,  20.,  16.,  14.,  15.,  15.,  13.,  10.,\n",
       "          6.,   8.,   6.,   5.,   6.,   9.,   6.,   7.,   9.,   7.,   1.,\n",
       "          1.,   6.,  10.,   2.,   2.,   2.,   6.,   7.,   2.,   3.,  10.,\n",
       "          2.,   1.,   2.,   1.,   2.,   5.,   5.,   1.,   4.,   4.,   1.,\n",
       "          0.,   1.,   2.,   2.,   0.,   0.,   1.,   3.,   4.,   0.,   1.,\n",
       "          0.,   0.,   5.,   2.,   3.,   1.,   1.,   1.,   0.,   0.,   0.,\n",
       "          0.,   0.,   1.,   0.,   0.,   1.,   0.,   3.,   3.,   0.,   2.,\n",
       "          1.,   0.,   2.,   0.,   1.,   0.,   2.,   0.,   0.,   1.,   1.,\n",
       "          0.,   1.,   2.,   0.,   1.,   1.,   0.,   0.,   1.,   0.,   0.,\n",
       "          0.,   1.,   1.,   1.,   0.,   1.,   0.,   0.,   1.,   0.,   0.,\n",
       "          0.,   0.,   0.,   0.,   0.,   1.,   0.,   0.,   0.,   0.,   0.,\n",
       "          0.,   0.,   0.,   0.,   0.,   0.,   0.,   0.,   1.,   0.,   1.,\n",
       "          0.,   0.,   1.,   0.,   1.,   0.,   0.,   0.,   0.,   0.,   1.,\n",
       "          0.,   1.,   0.,   0.,   0.,   0.,   0.,   0.,   0.,   0.,   1.,\n",
       "          0.,   1.,   0.,   0.,   0.,   0.,   0.,   0.,   0.,   0.,   0.,\n",
       "          0.,   0.,   0.,   0.,   0.,   1.,   1.,   0.,   0.,   0.,   0.,\n",
       "          0.,   1.,   1.,   0.,   0.,   0.,   0.,   0.,   0.,   0.,   0.,\n",
       "          0.,   0.,   1.,   0.,   0.,   0.,   0.,   0.,   0.,   0.,   0.,\n",
       "          0.,   0.,   0.,   0.,   0.,   0.,   0.,   0.,   0.,   0.,   0.,\n",
       "          0.,   0.,   0.,   0.,   0.,   0.,   0.,   0.,   0.,   0.,   0.,\n",
       "          0.,   0.,   0.,   0.,   0.,   0.,   0.,   0.,   0.,   0.,   0.,\n",
       "          0.,   0.,   0.,   0.,   0.,   0.,   0.,   0.,   1.,   0.,   0.,\n",
       "          0.,   0.,   0.,   0.,   0.,   0.,   1.,   0.,   0.,   0.,   0.,\n",
       "          0.,   0.,   0.,   0.,   0.,   0.,   0.,   0.,   1.,   0.,   0.,\n",
       "          0.,   0.,   0.,   0.,   0.,   0.,   0.,   0.,   0.,   0.,   0.,\n",
       "          0.,   1.,   0.,   0.,   0.,   0.,   1.,   0.,   0.,   0.,   0.,\n",
       "          0.,   0.,   0.,   0.,   0.,   0.,   0.,   0.,   0.,   0.,   0.,\n",
       "          0.,   0.,   0.,   0.,   0.,   0.,   0.,   0.,   0.,   0.,   0.,\n",
       "          1.,   1.,   0.,   0.,   0.,   0.,   0.,   0.,   0.,   0.,   0.,\n",
       "          0.,   0.,   0.,   0.,   0.,   0.,   0.,   0.,   0.,   0.,   0.,\n",
       "          0.,   0.,   0.,   0.,   0.,   0.,   0.,   0.,   0.,   0.,   0.,\n",
       "          0.,   0.,   0.,   0.,   0.,   0.,   0.,   0.,   0.,   0.,   0.,\n",
       "          0.,   0.,   0.,   0.,   0.,   0.,   0.,   0.,   0.,   0.,   0.,\n",
       "          0.,   0.,   0.,   0.,   0.,   0.,   0.,   0.,   0.,   0.,   0.,\n",
       "          0.,   0.,   0.,   0.,   0.,   0.,   0.,   0.,   0.,   0.,   0.,\n",
       "          0.,   0.,   0.,   0.,   0.,   0.,   0.,   0.,   0.,   0.,   0.,\n",
       "          0.,   0.,   0.,   0.,   0.,   0.,   0.,   0.,   0.,   0.,   0.,\n",
       "          0.,   0.,   0.,   0.,   0.,   0.,   0.,   0.,   0.,   0.,   0.,\n",
       "          0.,   0.,   0.,   0.,   0.,   0.,   0.,   0.,   0.,   0.,   0.,\n",
       "          0.,   0.,   0.,   0.,   0.,   0.,   0.,   0.,   0.,   0.,   0.,\n",
       "          0.,   0.,   0.,   0.,   0.,   0.,   0.,   0.,   0.,   0.,   0.,\n",
       "          0.,   0.,   0.,   0.,   2.,   0.,   0.,   0.,   0.,   0.,   0.,\n",
       "          0.,   0.,   0.,   0.,   0.,   0.,   0.,   0.,   0.,   0.,   0.,\n",
       "          0.,   0.,   0.,   0.,   0.,   0.,   0.,   0.,   0.,   0.,   0.,\n",
       "          0.,   0.,   0.,   0.,   0.,   0.,   0.,   0.,   0.,   0.,   0.,\n",
       "          0.,   0.,   0.,   0.,   0.,   0.,   0.,   0.,   0.,   0.,   0.,\n",
       "          0.,   0.,   0.,   0.,   0.,   0.,   0.,   0.,   0.,   0.,   0.,\n",
       "          0.,   0.,   0.,   0.,   0.,   0.,   0.,   0.,   0.,   0.,   0.,\n",
       "          0.,   0.,   0.,   0.,   0.,   0.,   0.,   0.,   0.,   0.,   0.,\n",
       "          0.,   0.,   0.,   0.,   0.,   0.,   0.,   0.,   0.,   0.,   0.,\n",
       "          0.,   0.,   0.,   0.,   0.,   0.,   0.,   0.,   0.,   0.,   0.,\n",
       "          0.,   0.,   0.,   0.,   0.,   0.,   0.,   0.,   0.,   0.,   0.,\n",
       "          0.,   0.,   0.,   0.,   0.,   0.,   0.,   0.,   0.,   0.,   0.,\n",
       "          1.,   0.,   0.,   0.,   0.,   0.,   0.,   0.,   0.,   0.,   0.,\n",
       "          0.,   0.,   0.,   0.,   0.,   0.,   0.,   0.,   0.,   0.,   0.,\n",
       "          0.,   0.,   0.,   0.,   0.,   0.,   0.,   0.,   0.,   0.,   0.,\n",
       "          0.,   0.,   0.,   0.,   0.,   0.,   0.,   0.,   0.,   0.,   0.,\n",
       "          0.,   0.,   0.,   0.,   0.,   0.,   0.,   0.,   0.,   0.,   0.,\n",
       "          0.,   0.,   0.,   0.,   0.,   0.,   0.,   0.,   0.,   0.,   0.,\n",
       "          0.,   0.,   0.,   0.,   0.,   0.,   0.,   0.,   0.,   0.,   0.,\n",
       "          0.,   0.,   0.,   0.,   0.,   0.,   0.,   0.,   0.,   0.,   0.,\n",
       "          0.,   0.,   0.,   0.,   0.,   0.,   0.,   0.,   0.,   0.,   0.,\n",
       "          0.,   0.,   0.,   0.,   0.,   0.,   0.,   0.,   0.,   0.,   0.,\n",
       "          0.,   0.,   0.,   0.,   0.,   0.,   0.,   0.,   0.,   0.,   0.,\n",
       "          0.,   0.,   0.,   0.,   0.,   0.,   0.,   0.,   0.,   0.,   0.,\n",
       "          0.,   0.,   0.,   0.,   0.,   0.,   0.,   0.,   0.,   0.,   0.,\n",
       "          0.,   0.,   0.,   0.,   0.,   0.,   0.,   0.,   0.,   0.,   0.,\n",
       "          0.,   0.,   0.,   0.,   1.]),\n",
       " array([  0.,   1.,   2.,   3.,   4.,   5.,   6.,   7.,   8.,   9.,  10.,\n",
       "         11.,  12.,  13.,  14.,  15.,  16.,  17.,  18.,  19.,  20.,  21.,\n",
       "         22.,  23.,  24.,  25.,  26.,  27.,  28.,  29.,  30.,  31.,  32.,\n",
       "         33.,  34.,  35.,  36.,  37.,  38.,  39.,  40.,  41.,  42.,  43.,\n",
       "         44.,  45.,  46.,  47.,  48.,  49.,  50.,  51.,  52.,  53.,  54.,\n",
       "         55.,  56.,  57.,  58.,  59.,  60.,  61.,  62.,  63.,  64.,  65.,\n",
       "         66.,  67.,  68.,  69.,  70.,  71.,  72.,  73.,  74.,  75.,  76.,\n",
       "         77.,  78.,  79.,  80.,  81.,  82.,  83.,  84.,  85.,  86.,  87.,\n",
       "         88.,  89.,  90.,  91.,  92.,  93.,  94.,  95.,  96.,  97.,  98.,\n",
       "         99., 100., 101., 102., 103., 104., 105., 106., 107., 108., 109.,\n",
       "        110., 111., 112., 113., 114., 115., 116., 117., 118., 119., 120.,\n",
       "        121., 122., 123., 124., 125., 126., 127., 128., 129., 130., 131.,\n",
       "        132., 133., 134., 135., 136., 137., 138., 139., 140., 141., 142.,\n",
       "        143., 144., 145., 146., 147., 148., 149., 150., 151., 152., 153.,\n",
       "        154., 155., 156., 157., 158., 159., 160., 161., 162., 163., 164.,\n",
       "        165., 166., 167., 168., 169., 170., 171., 172., 173., 174., 175.,\n",
       "        176., 177., 178., 179., 180., 181., 182., 183., 184., 185., 186.,\n",
       "        187., 188., 189., 190., 191., 192., 193., 194., 195., 196., 197.,\n",
       "        198., 199., 200., 201., 202., 203., 204., 205., 206., 207., 208.,\n",
       "        209., 210., 211., 212., 213., 214., 215., 216., 217., 218., 219.,\n",
       "        220., 221., 222., 223., 224., 225., 226., 227., 228., 229., 230.,\n",
       "        231., 232., 233., 234., 235., 236., 237., 238., 239., 240., 241.,\n",
       "        242., 243., 244., 245., 246., 247., 248., 249., 250., 251., 252.,\n",
       "        253., 254., 255., 256., 257., 258., 259., 260., 261., 262., 263.,\n",
       "        264., 265., 266., 267., 268., 269., 270., 271., 272., 273., 274.,\n",
       "        275., 276., 277., 278., 279., 280., 281., 282., 283., 284., 285.,\n",
       "        286., 287., 288., 289., 290., 291., 292., 293., 294., 295., 296.,\n",
       "        297., 298., 299., 300., 301., 302., 303., 304., 305., 306., 307.,\n",
       "        308., 309., 310., 311., 312., 313., 314., 315., 316., 317., 318.,\n",
       "        319., 320., 321., 322., 323., 324., 325., 326., 327., 328., 329.,\n",
       "        330., 331., 332., 333., 334., 335., 336., 337., 338., 339., 340.,\n",
       "        341., 342., 343., 344., 345., 346., 347., 348., 349., 350., 351.,\n",
       "        352., 353., 354., 355., 356., 357., 358., 359., 360., 361., 362.,\n",
       "        363., 364., 365., 366., 367., 368., 369., 370., 371., 372., 373.,\n",
       "        374., 375., 376., 377., 378., 379., 380., 381., 382., 383., 384.,\n",
       "        385., 386., 387., 388., 389., 390., 391., 392., 393., 394., 395.,\n",
       "        396., 397., 398., 399., 400., 401., 402., 403., 404., 405., 406.,\n",
       "        407., 408., 409., 410., 411., 412., 413., 414., 415., 416., 417.,\n",
       "        418., 419., 420., 421., 422., 423., 424., 425., 426., 427., 428.,\n",
       "        429., 430., 431., 432., 433., 434., 435., 436., 437., 438., 439.,\n",
       "        440., 441., 442., 443., 444., 445., 446., 447., 448., 449., 450.,\n",
       "        451., 452., 453., 454., 455., 456., 457., 458., 459., 460., 461.,\n",
       "        462., 463., 464., 465., 466., 467., 468., 469., 470., 471., 472.,\n",
       "        473., 474., 475., 476., 477., 478., 479., 480., 481., 482., 483.,\n",
       "        484., 485., 486., 487., 488., 489., 490., 491., 492., 493., 494.,\n",
       "        495., 496., 497., 498., 499., 500., 501., 502., 503., 504., 505.,\n",
       "        506., 507., 508., 509., 510., 511., 512., 513., 514., 515., 516.,\n",
       "        517., 518., 519., 520., 521., 522., 523., 524., 525., 526., 527.,\n",
       "        528., 529., 530., 531., 532., 533., 534., 535., 536., 537., 538.,\n",
       "        539., 540., 541., 542., 543., 544., 545., 546., 547., 548., 549.,\n",
       "        550., 551., 552., 553., 554., 555., 556., 557., 558., 559., 560.,\n",
       "        561., 562., 563., 564., 565., 566., 567., 568., 569., 570., 571.,\n",
       "        572., 573., 574., 575., 576., 577., 578., 579., 580., 581., 582.,\n",
       "        583., 584., 585., 586., 587., 588., 589., 590., 591., 592., 593.,\n",
       "        594., 595., 596., 597., 598., 599., 600., 601., 602., 603., 604.,\n",
       "        605., 606., 607., 608., 609., 610., 611., 612., 613., 614., 615.,\n",
       "        616., 617., 618., 619., 620., 621., 622., 623., 624., 625., 626.,\n",
       "        627., 628., 629., 630., 631., 632., 633., 634., 635., 636., 637.,\n",
       "        638., 639., 640., 641., 642., 643., 644., 645., 646., 647., 648.,\n",
       "        649., 650., 651., 652., 653., 654., 655., 656., 657., 658., 659.,\n",
       "        660., 661., 662., 663., 664., 665., 666., 667., 668., 669., 670.,\n",
       "        671., 672., 673., 674., 675., 676., 677., 678., 679., 680., 681.,\n",
       "        682., 683., 684., 685., 686., 687., 688., 689., 690., 691., 692.,\n",
       "        693., 694., 695., 696., 697., 698., 699., 700., 701., 702., 703.,\n",
       "        704., 705., 706., 707., 708., 709., 710., 711., 712., 713., 714.,\n",
       "        715., 716., 717., 718., 719., 720., 721., 722., 723., 724., 725.,\n",
       "        726., 727., 728., 729., 730., 731., 732., 733., 734., 735., 736.,\n",
       "        737., 738., 739., 740., 741., 742., 743., 744., 745., 746., 747.,\n",
       "        748., 749., 750., 751., 752., 753., 754., 755., 756., 757., 758.,\n",
       "        759., 760., 761., 762., 763., 764.]),\n",
       " <BarContainer object of 764 artists>)"
      ]
     },
     "execution_count": 16,
     "metadata": {},
     "output_type": "execute_result"
    },
    {
     "data": {
      "image/png": "[encoded data removed]",
      "text/plain": [
       "<Figure size 800x400 with 1 Axes>"
      ]
     },
     "metadata": {},
     "output_type": "display_data"
    }
   ],
   "source": [
    "plt.figure(figsize=(8, 4))\n",
    "plt.hist(regression_cascades, bins=range(int(max(regression_cascades))+2), align='left', color='blue', alpha=0.7)"
   ]
  },
  {
   "cell_type": "code",
   "execution_count": 16,
   "metadata": {},
   "outputs": [],
   "source": [
    "import networkx as nx\n",
    "edges = [list(row) for i, row in facebook_adj.iterrows()]\n",
    "facebook_nx_g = nx.Graph()\n",
    "facebook_nx_g.add_edges_from(edges)"
   ]
  },
  {
   "cell_type": "code",
   "execution_count": 20,
   "metadata": {},
   "outputs": [],
   "source": [
    "def generate_static_centrality_features (graph):\n",
    "    edges = [(u, v) for u,v in graph.edges.keys()]\n",
    "    if (graph.directed):\n",
    "        G = nx.DiGraph()\n",
    "    else:\n",
    "        G = nx.Graph()\n",
    "    \n",
    "    G.add_edges_from(edges) \n",
    "    \n",
    "    degree_centrality_facebook = nx.degree_centrality(G)\n",
    "    eigenvector_centrality_facebook = nx.eigenvector_centrality(G)\n",
    "    betweeness_centrality_facebook = nx.betweenness_centrality(G)\n",
    "\n",
    "    with open ('static_node_centrality_facebook.txt', 'w') as file: \n",
    "        for node_idx in range(graph._n):\n",
    "            file.write(f\"{node_idx} {degree_centrality_facebook[node_idx]} {eigenvector_centrality_facebook[node_idx]} {betweeness_centrality_facebook[node_idx]}\\n\")"
   ]
  },
  {
   "cell_type": "code",
   "execution_count": 21,
   "metadata": {},
   "outputs": [],
   "source": [
    "generate_static_centrality_features(graph_gaussian)"
   ]
  },
  {
   "cell_type": "markdown",
   "metadata": {},
   "source": [
    "### Diameter of the graph"
   ]
  },
  {
   "cell_type": "code",
   "execution_count": 18,
   "metadata": {},
   "outputs": [
    {
     "data": {
      "text/plain": [
       "8"
      ]
     },
     "execution_count": 18,
     "metadata": {},
     "output_type": "execute_result"
    }
   ],
   "source": [
    "nx.diameter(facebook_nx_g)"
   ]
  }
 ],
 "metadata": {
  "kernelspec": {
   "display_name": "ml",
   "language": "python",
   "name": "python3"
  },
  "language_info": {
   "codemirror_mode": {
    "name": "ipython",
    "version": 3
   },
   "file_extension": ".py",
   "mimetype": "text/x-python",
   "name": "python",
   "nbconvert_exporter": "python",
   "pygments_lexer": "ipython3",
   "version": "3.8.19"
  }
 },
 "nbformat": 4,
 "nbformat_minor": 2
}
