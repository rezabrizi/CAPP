{
 "cells": [
  {
   "cell_type": "markdown",
   "metadata": {},
   "source": [
    "## Attempt for Regression using GAT"
   ]
  },
  {
   "cell_type": "code",
   "execution_count": 2,
   "metadata": {},
   "outputs": [],
   "source": [
    "import torch\n",
    "from torch_geometric.nn import GATConv, global_mean_pool\n",
    "import torch.nn.functional as F\n",
    "import torch.nn as nn"
   ]
  },
  {
   "cell_type": "code",
   "execution_count": 3,
   "metadata": {},
   "outputs": [],
   "source": [
    "class GAT(torch.nn.Module):\n",
    "    def __init__(self, input_dim, hidden_dim, output_dim, num_layers):\n",
    "        super(GAT, self).__init__()\n",
    "        # multilayer perceptron is used for encoding the features\n",
    "        self.mlp = nn.Sequential(\n",
    "        nn.Linear(input_dim, 32),\n",
    "        nn.ReLU(),\n",
    "        nn.Linear(32, 64))\n",
    "\n",
    "        self.gat_layers = nn.ModleList([GATConv(hidden_dim, hidden_dim, heads=8, concat=True, dropout=0.2) for _ in range(num_layers-1)])\n",
    "        self.final_gat = GATConv(hidden_dim*8, hidden_dim, heads=1, concat=False, dropout=0.2)\n",
    "        self.fc = nn.Linear(hidden_dim, output_dim)\n",
    "\n",
    "    def forward(self, data):\n",
    "        x, edge_index, batch = data.x, data.edge_index, data.batch\n",
    "        x = self.mlp(x)\n",
    "\n",
    "        for layer in self.gat_layers: \n",
    "            x_in = x\n",
    "            x = F.dropout(x, p=0.2, training=self.training)\n",
    "            x = F.elu(layer(x, edge_index))\n",
    "            x = x + x_in \n",
    "        x = self.final_gat(x, edge_index)\n",
    "        x = global_mean_pool(x, batch)\n",
    "        x = self.fc(x) \n",
    "        return x"
   ]
  },
  {
   "cell_type": "code",
   "execution_count": null,
   "metadata": {},
   "outputs": [],
   "source": []
  }
 ],
 "metadata": {
  "kernelspec": {
   "display_name": "ml",
   "language": "python",
   "name": "python3"
  },
  "language_info": {
   "codemirror_mode": {
    "name": "ipython",
    "version": 3
   },
   "file_extension": ".py",
   "mimetype": "text/x-python",
   "name": "python",
   "nbconvert_exporter": "python",
   "pygments_lexer": "ipython3",
   "version": "3.8.19"
  }
 },
 "nbformat": 4,
 "nbformat_minor": 2
}
