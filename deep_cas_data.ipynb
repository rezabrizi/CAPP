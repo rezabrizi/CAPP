{
 "cells": [
  {
   "cell_type": "code",
   "execution_count": 69,
   "metadata": {},
   "outputs": [],
   "source": [
    "import pandas as pd\n",
    "from collections import defaultdict\n",
    "import os"
   ]
  },
  {
   "cell_type": "code",
   "execution_count": 63,
   "metadata": {},
   "outputs": [
    {
     "name": "stdout",
     "output_type": "stream",
     "text": [
      "46460\n",
      "642755\n"
     ]
    }
   ],
   "source": [
    "g = defaultdict(list)\n",
    "with open(\"data/raw/DeepCas/global_graph.txt\", \"r\") as f:\n",
    "    content = f.readlines()\n",
    "    for curr in content:\n",
    "        u = int(curr.split(\"\\t\\t\")[0])\n",
    "        v = curr.split(\"\\t\\t\")[1].split(\"\\t\")\n",
    "        if (v[0] == \"null\\n\"): continue\n",
    "        v = [int(node_v.split(\":\")[0]) for node_v in v]\n",
    "        g[u] = set(v)\n",
    "\n",
    "## The graph is obviously directed and ther are some users u and v that follow each other\n",
    "count = 0 \n",
    "total = 0\n",
    "for key in g.keys():\n",
    "        u = key\n",
    "        for v in g[u]:\n",
    "            total += 1\n",
    "            if v in g and u in g[v]:\n",
    "                count += 1 \n",
    "                        \n",
    "\n",
    "## writing the edge_indxes to a text file\n",
    "with open(\"data/raw/DeepCas/adj.txt\", \"w\") as f:\n",
    "    for key in g.keys():\n",
    "        u = key\n",
    "        for v in g[u]:\n",
    "            f.write(f\"{u} {v}\\n\")\n",
    "\n"
   ]
  },
  {
   "cell_type": "code",
   "execution_count": 71,
   "metadata": {},
   "outputs": [],
   "source": [
    "## reading the cascades and writing to a file in the format of\n",
    "### c_id seed_1 seed_2 ... seed_n activation_count\n",
    "def write_deep_cas_cascades(filename):\n",
    "    with open(f\"data/raw/DeepCas/{filename}\", \"r\") as f1:\n",
    "        with open(\"data/raw/regression/DeepCas/cascade.txt\", \"a\") as f2:\n",
    "            with open(\"data/raw/classification/DeepCas/cascade.txt\", \"a\") as f3: \n",
    "                if len(f2.readlines()) > 500: return \n",
    "                content = f1.readlines()\n",
    "                for cascade in content: \n",
    "                    cascade = cascade.split(\"\\t\")\n",
    "                    c_id = cascade[0]\n",
    "                    seed_nodes = [int(node) for node in cascade[1].split(\" \")]\n",
    "                    year = int(cascade[2])\n",
    "                    cascade_count = int(cascade[3])\n",
    "                    diffusion = [(int(x.split(\":\")[0]), int(x.split(\":\")[1])) for x in cascade[4].split()]\n",
    "                    interval  = [int(t) for t in cascade[5].split()]\n",
    "\n",
    "                    f2.write(f\"{c_id} \")\n",
    "                    for seed in seed_nodes:\n",
    "                        f2.write(f\"{seed} \")\n",
    "                    f2.write(f\"{cascade_count}\\n\")\n",
    "\n",
    "                    f3.write(f\"{c_id} \") \n",
    "                    for seed in seed_nodes:\n",
    "                        f3.write(f\"{seed}:0 \")\n",
    "                    for _, v in diffusion: \n",
    "                        f3.write(f\"{v}:4 \")\n",
    "                    f3.write(\"\\n\")"
   ]
  }
 ],
 "metadata": {
  "kernelspec": {
   "display_name": "ml",
   "language": "python",
   "name": "python3"
  },
  "language_info": {
   "codemirror_mode": {
    "name": "ipython",
    "version": 3
   },
   "file_extension": ".py",
   "mimetype": "text/x-python",
   "name": "python",
   "nbconvert_exporter": "python",
   "pygments_lexer": "ipython3",
   "version": "3.8.-1"
  }
 },
 "nbformat": 4,
 "nbformat_minor": 2
}
